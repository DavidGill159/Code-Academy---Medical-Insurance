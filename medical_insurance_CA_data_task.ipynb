{
 "cells": [
  {
   "cell_type": "markdown",
   "metadata": {},
   "source": [
    "# U.S. Medical Insurance Costs"
   ]
  },
  {
   "cell_type": "code",
   "execution_count": 10,
   "metadata": {},
   "outputs": [],
   "source": [
    "import pandas as pd\n",
    "\n",
    "path = '/Users/davidgill/Desktop/python-portfolio-project-starter-files/insurance.csv'\n",
    "insurance = pd.read_csv(path)\n"
   ]
  },
  {
   "cell_type": "code",
   "execution_count": 11,
   "metadata": {},
   "outputs": [],
   "source": [
    "# Extract the column names from the DataFrame\n",
    "column_names = insurance.columns\n",
    "\n",
    "# Store the column names in variables\n",
    "age = column_names[0]\n",
    "sex = column_names[1]\n",
    "bmi = column_names[2]\n",
    "children = column_names[3]\n",
    "smoker = column_names[4]\n",
    "region = column_names[5]\n",
    "charges = column_names[6]"
   ]
  },
  {
   "cell_type": "code",
   "execution_count": 14,
   "metadata": {},
   "outputs": [
    {
     "name": "stdout",
     "output_type": "stream",
     "text": [
      "39.0\n"
     ]
    }
   ],
   "source": [
    "# find out the average age of patients in the dataset\n",
    "def average_age(path):\n",
    "    age = insurance['age']\n",
    "    average_age = round(age.mean(), 0)\n",
    "    return average_age\n",
    "\n",
    "print(average_age(path))"
   ]
  },
  {
   "cell_type": "code",
   "execution_count": 18,
   "metadata": {},
   "outputs": [
    {
     "name": "stdout",
     "output_type": "stream",
     "text": [
      "southeast\n"
     ]
    }
   ],
   "source": [
    "# find out where the majority of individuals are from \n",
    "def common_region(path):\n",
    "    region = insurance['region']\n",
    "    common_region = region.value_counts().idxmax()\n",
    "    return common_region \n",
    "\n",
    "print(common_region(path))\n",
    "# value_counts() function to count the number of occurrences of each region.  \n",
    "# idxmax() to determine the region with the maximum count."
   ]
  },
  {
   "cell_type": "code",
   "execution_count": 23,
   "metadata": {},
   "outputs": [
    {
     "name": "stdout",
     "output_type": "stream",
     "text": [
      "         charges\n",
      "smoker          \n",
      "no       8434.27\n",
      "yes     32050.23\n"
     ]
    }
   ],
   "source": [
    "# Looking at the different costs between smokers and non-smokers \n",
    "def compare_costs(path):\n",
    "    costs = insurance[['smoker','charges']]\n",
    "    costs_by_smoker = round(costs.groupby('smoker').mean(), 2)\n",
    "    return costs_by_smoker\n",
    "\n",
    "print(compare_costs(path))\n"
   ]
  },
  {
   "cell_type": "code",
   "execution_count": 26,
   "metadata": {},
   "outputs": [
    {
     "name": "stdout",
     "output_type": "stream",
     "text": [
      "the average age of parents is 40.0\n"
     ]
    }
   ],
   "source": [
    "# figure out the average age for someone who has at least 1 child in the database \n",
    "\n",
    "def average_parent_age(path): \n",
    "    age = insurance[['age', 'children']]\n",
    "    parent_age = age[age['children'] > 0]\n",
    "    average_age = round(parent_age['age'].mean(), 0)\n",
    "    return \"the average age of parents is \" + str(average_age)\n",
    "\n",
    "print(average_parent_age(path))"
   ]
  },
  {
   "cell_type": "code",
   "execution_count": null,
   "metadata": {},
   "outputs": [],
   "source": []
  }
 ],
 "metadata": {
  "kernelspec": {
   "display_name": "Python 3 (ipykernel)",
   "language": "python",
   "name": "python3"
  },
  "language_info": {
   "codemirror_mode": {
    "name": "ipython",
    "version": 3
   },
   "file_extension": ".py",
   "mimetype": "text/x-python",
   "name": "python",
   "nbconvert_exporter": "python",
   "pygments_lexer": "ipython3",
   "version": "3.9.12"
  }
 },
 "nbformat": 4,
 "nbformat_minor": 4
}
